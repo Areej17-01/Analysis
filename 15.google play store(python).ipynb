{
 "cells": [
  {
   "cell_type": "code",
   "execution_count": 1,
   "metadata": {},
   "outputs": [],
   "source": [
    "def readfile(filename):\n",
    "    from csv  import reader\n",
    "    return list(reader(open(filename,encoding=\"utf-8\")))\n",
    "dataset=readfile(\"googleplaystore.csv\")\n"
   ]
  },
  {
   "cell_type": "code",
   "execution_count": 2,
   "metadata": {},
   "outputs": [],
   "source": [
    "header=dataset[0]\n",
    "android=(dataset[1:])\n",
    "\n",
    "print(len(header))\n",
    "print(android[10472])"
   ]
  },
  {
   "cell_type": "code",
   "execution_count": 5,
   "metadata": {},
   "outputs": [
    {
     "name": "stdout",
     "output_type": "stream",
     "text": [
      "0\n",
      "1\n",
      "2\n"
     ]
    },
    {
     "data": {
      "text/plain": [
       "3"
      ]
     },
     "execution_count": 5,
     "metadata": {},
     "output_type": "execute_result"
    }
   ],
   "source": [
    "counter=0\n",
    "for i in [\"APPLE\",\"BANANA\",\"ORANGES\",\"APPLE\",\"APPLE\"]:\n",
    "    if i == \"APPLE\":\n",
    "        print(counter)\n",
    "        counter+=1\n",
    "        \n",
    "counter"
   ]
  },
  {
   "cell_type": "code",
   "execution_count": 3,
   "metadata": {},
   "outputs": [
    {
     "name": "stdout",
     "output_type": "stream",
     "text": [
      "['Life Made WI-Fi Touchscreen Photo Frame', '1.9', '19', '3.0M', '1,000+', 'Free', '0', 'Everyone', '', 'February 11, 2018', '1.0.19', '4.0 and up']\n",
      "12\n",
      "Life style\n",
      "10472\n",
      "10472\n"
     ]
    }
   ],
   "source": [
    "#negative indexing will be used because in list of list i[3] will bec0me i[2], if there'll be a missing variable,therefore negative indexing is used in this case \n",
    "count=0\n",
    "for i in android:\n",
    "    \n",
    "    if i[-4] ==\"\" or i[9]==\"\":\n",
    "        print(i)\n",
    "        print(len(i))\n",
    "        android[count][-4]=\"Life style\"\n",
    "        print(i[-4])\n",
    "        print(count)\n",
    "        print(android.index(i))\n",
    "    count+=1"
   ]
  },
  {
   "cell_type": "code",
   "execution_count": 4,
   "metadata": {},
   "outputs": [],
   "source": [
    "list1=[]\n",
    "for i in android:\n",
    "    if i[-4] not in list1:\n",
    "        list1.append(i[-4])"
   ]
  },
  {
   "cell_type": "code",
   "execution_count": 5,
   "metadata": {},
   "outputs": [
    {
     "data": {
      "text/plain": [
       "['Art & Design',\n",
       " 'Art & Design;Pretend Play',\n",
       " 'Art & Design;Creativity',\n",
       " 'Art & Design;Action & Adventure',\n",
       " 'Auto & Vehicles',\n",
       " 'Beauty',\n",
       " 'Books & Reference',\n",
       " 'Business',\n",
       " 'Comics',\n",
       " 'Comics;Creativity',\n",
       " 'Communication',\n",
       " 'Dating',\n",
       " 'Education;Education',\n",
       " 'Education',\n",
       " 'Education;Creativity',\n",
       " 'Education;Music & Video',\n",
       " 'Education;Action & Adventure',\n",
       " 'Education;Pretend Play',\n",
       " 'Education;Brain Games',\n",
       " 'Entertainment',\n",
       " 'Entertainment;Music & Video',\n",
       " 'Entertainment;Brain Games',\n",
       " 'Entertainment;Creativity',\n",
       " 'Events',\n",
       " 'Finance',\n",
       " 'Food & Drink',\n",
       " 'Health & Fitness',\n",
       " 'House & Home',\n",
       " 'Libraries & Demo',\n",
       " 'Lifestyle',\n",
       " 'Lifestyle;Pretend Play',\n",
       " 'Adventure;Action & Adventure',\n",
       " 'Arcade',\n",
       " 'Casual',\n",
       " 'Card',\n",
       " 'Casual;Pretend Play',\n",
       " 'Action',\n",
       " 'Strategy',\n",
       " 'Puzzle',\n",
       " 'Sports',\n",
       " 'Music',\n",
       " 'Word',\n",
       " 'Racing',\n",
       " 'Casual;Creativity',\n",
       " 'Casual;Action & Adventure',\n",
       " 'Simulation',\n",
       " 'Adventure',\n",
       " 'Board',\n",
       " 'Trivia',\n",
       " 'Role Playing',\n",
       " 'Simulation;Education',\n",
       " 'Action;Action & Adventure',\n",
       " 'Casual;Brain Games',\n",
       " 'Simulation;Action & Adventure',\n",
       " 'Educational;Creativity',\n",
       " 'Puzzle;Brain Games',\n",
       " 'Educational;Education',\n",
       " 'Card;Brain Games',\n",
       " 'Educational;Brain Games',\n",
       " 'Educational;Pretend Play',\n",
       " 'Entertainment;Education',\n",
       " 'Casual;Education',\n",
       " 'Music;Music & Video',\n",
       " 'Racing;Action & Adventure',\n",
       " 'Arcade;Pretend Play',\n",
       " 'Role Playing;Action & Adventure',\n",
       " 'Simulation;Pretend Play',\n",
       " 'Puzzle;Creativity',\n",
       " 'Sports;Action & Adventure',\n",
       " 'Educational;Action & Adventure',\n",
       " 'Arcade;Action & Adventure',\n",
       " 'Entertainment;Action & Adventure',\n",
       " 'Puzzle;Action & Adventure',\n",
       " 'Strategy;Action & Adventure',\n",
       " 'Music & Audio;Music & Video',\n",
       " 'Health & Fitness;Education',\n",
       " 'Adventure;Education',\n",
       " 'Board;Brain Games',\n",
       " 'Board;Action & Adventure',\n",
       " 'Board;Pretend Play',\n",
       " 'Casual;Music & Video',\n",
       " 'Role Playing;Pretend Play',\n",
       " 'Entertainment;Pretend Play',\n",
       " 'Video Players & Editors;Creativity',\n",
       " 'Card;Action & Adventure',\n",
       " 'Medical',\n",
       " 'Social',\n",
       " 'Shopping',\n",
       " 'Photography',\n",
       " 'Travel & Local',\n",
       " 'Travel & Local;Action & Adventure',\n",
       " 'Tools',\n",
       " 'Tools;Education',\n",
       " 'Personalization',\n",
       " 'Productivity',\n",
       " 'Parenting',\n",
       " 'Parenting;Music & Video',\n",
       " 'Parenting;Education',\n",
       " 'Parenting;Brain Games',\n",
       " 'Weather',\n",
       " 'Video Players & Editors',\n",
       " 'Video Players & Editors;Music & Video',\n",
       " 'News & Magazines',\n",
       " 'Maps & Navigation',\n",
       " 'Health & Fitness;Action & Adventure',\n",
       " 'Educational',\n",
       " 'Casino',\n",
       " 'Adventure;Brain Games',\n",
       " 'Trivia;Education',\n",
       " 'Lifestyle;Education',\n",
       " 'Books & Reference;Creativity',\n",
       " 'Books & Reference;Education',\n",
       " 'Puzzle;Education',\n",
       " 'Role Playing;Education',\n",
       " 'Role Playing;Brain Games',\n",
       " 'Strategy;Education',\n",
       " 'Racing;Pretend Play',\n",
       " 'Communication;Creativity',\n",
       " 'Life style',\n",
       " 'Strategy;Creativity']"
      ]
     },
     "execution_count": 5,
     "metadata": {},
     "output_type": "execute_result"
    }
   ],
   "source": [
    "list1"
   ]
  },
  {
   "cell_type": "code",
   "execution_count": 6,
   "metadata": {},
   "outputs": [
    {
     "data": {
      "text/plain": [
       "120"
      ]
     },
     "execution_count": 6,
     "metadata": {},
     "output_type": "execute_result"
    }
   ],
   "source": [
    "len(list1)"
   ]
  },
  {
   "cell_type": "code",
   "execution_count": 7,
   "metadata": {},
   "outputs": [
    {
     "data": {
      "text/plain": [
       "{'Art & Design': 1,\n",
       " 'Art & Design;Pretend Play': 1,\n",
       " 'Art & Design;Creativity': 1,\n",
       " 'Art & Design;Action & Adventure': 1,\n",
       " 'Auto & Vehicles': 1,\n",
       " 'Beauty': 1,\n",
       " 'Books & Reference': 1,\n",
       " 'Business': 1,\n",
       " 'Comics': 1,\n",
       " 'Comics;Creativity': 1,\n",
       " 'Communication': 1,\n",
       " 'Dating': 1,\n",
       " 'Education;Education': 1,\n",
       " 'Education': 1,\n",
       " 'Education;Creativity': 1,\n",
       " 'Education;Music & Video': 1,\n",
       " 'Education;Action & Adventure': 1,\n",
       " 'Education;Pretend Play': 1,\n",
       " 'Education;Brain Games': 1,\n",
       " 'Entertainment': 1,\n",
       " 'Entertainment;Music & Video': 1,\n",
       " 'Entertainment;Brain Games': 1,\n",
       " 'Entertainment;Creativity': 1,\n",
       " 'Events': 1,\n",
       " 'Finance': 1,\n",
       " 'Food & Drink': 1,\n",
       " 'Health & Fitness': 1,\n",
       " 'House & Home': 1,\n",
       " 'Libraries & Demo': 1,\n",
       " 'Lifestyle': 1,\n",
       " 'Lifestyle;Pretend Play': 1,\n",
       " 'Adventure;Action & Adventure': 1,\n",
       " 'Arcade': 1,\n",
       " 'Casual': 1,\n",
       " 'Card': 1,\n",
       " 'Casual;Pretend Play': 1,\n",
       " 'Action': 1,\n",
       " 'Strategy': 1,\n",
       " 'Puzzle': 1,\n",
       " 'Sports': 1,\n",
       " 'Music': 1,\n",
       " 'Word': 1,\n",
       " 'Racing': 1,\n",
       " 'Casual;Creativity': 1,\n",
       " 'Casual;Action & Adventure': 1,\n",
       " 'Simulation': 1,\n",
       " 'Adventure': 1,\n",
       " 'Board': 1,\n",
       " 'Trivia': 1,\n",
       " 'Role Playing': 1,\n",
       " 'Simulation;Education': 1,\n",
       " 'Action;Action & Adventure': 1,\n",
       " 'Casual;Brain Games': 1,\n",
       " 'Simulation;Action & Adventure': 1,\n",
       " 'Educational;Creativity': 1,\n",
       " 'Puzzle;Brain Games': 1,\n",
       " 'Educational;Education': 1,\n",
       " 'Card;Brain Games': 1,\n",
       " 'Educational;Brain Games': 1,\n",
       " 'Educational;Pretend Play': 1,\n",
       " 'Entertainment;Education': 1,\n",
       " 'Casual;Education': 1,\n",
       " 'Music;Music & Video': 1,\n",
       " 'Racing;Action & Adventure': 1,\n",
       " 'Arcade;Pretend Play': 1,\n",
       " 'Role Playing;Action & Adventure': 1,\n",
       " 'Simulation;Pretend Play': 1,\n",
       " 'Puzzle;Creativity': 1,\n",
       " 'Sports;Action & Adventure': 1,\n",
       " 'Educational;Action & Adventure': 1,\n",
       " 'Arcade;Action & Adventure': 1,\n",
       " 'Entertainment;Action & Adventure': 1,\n",
       " 'Puzzle;Action & Adventure': 1,\n",
       " 'Strategy;Action & Adventure': 1,\n",
       " 'Music & Audio;Music & Video': 1,\n",
       " 'Health & Fitness;Education': 1,\n",
       " 'Adventure;Education': 1,\n",
       " 'Board;Brain Games': 1,\n",
       " 'Board;Action & Adventure': 1,\n",
       " 'Board;Pretend Play': 1,\n",
       " 'Casual;Music & Video': 1,\n",
       " 'Role Playing;Pretend Play': 1,\n",
       " 'Entertainment;Pretend Play': 1,\n",
       " 'Video Players & Editors;Creativity': 1,\n",
       " 'Card;Action & Adventure': 1,\n",
       " 'Medical': 1,\n",
       " 'Social': 1,\n",
       " 'Shopping': 1,\n",
       " 'Photography': 1,\n",
       " 'Travel & Local': 1,\n",
       " 'Travel & Local;Action & Adventure': 1,\n",
       " 'Tools': 1,\n",
       " 'Tools;Education': 1,\n",
       " 'Personalization': 1,\n",
       " 'Productivity': 1,\n",
       " 'Parenting': 1,\n",
       " 'Parenting;Music & Video': 1,\n",
       " 'Parenting;Education': 1,\n",
       " 'Parenting;Brain Games': 1,\n",
       " 'Weather': 1,\n",
       " 'Video Players & Editors': 1,\n",
       " 'Video Players & Editors;Music & Video': 1,\n",
       " 'News & Magazines': 1,\n",
       " 'Maps & Navigation': 1,\n",
       " 'Health & Fitness;Action & Adventure': 1,\n",
       " 'Educational': 1,\n",
       " 'Casino': 1,\n",
       " 'Adventure;Brain Games': 1,\n",
       " 'Trivia;Education': 1,\n",
       " 'Lifestyle;Education': 1,\n",
       " 'Books & Reference;Creativity': 1,\n",
       " 'Books & Reference;Education': 1,\n",
       " 'Puzzle;Education': 1,\n",
       " 'Role Playing;Education': 1,\n",
       " 'Role Playing;Brain Games': 1,\n",
       " 'Strategy;Education': 1,\n",
       " 'Racing;Pretend Play': 1,\n",
       " 'Communication;Creativity': 1,\n",
       " 'Life style': 1,\n",
       " 'Strategy;Creativity': 1}"
      ]
     },
     "execution_count": 7,
     "metadata": {},
     "output_type": "execute_result"
    }
   ],
   "source": [
    "\n",
    "meeting={}\n",
    "for i in list1:\n",
    "    if i in meeting:\n",
    "        meeting[i]+=1\n",
    "    else:\n",
    "        meeting[i]=1\n",
    "        \n",
    "meeting"
   ]
  },
  {
   "cell_type": "code",
   "execution_count": 8,
   "metadata": {},
   "outputs": [
    {
     "data": {
      "text/plain": [
       "True"
      ]
     },
     "execution_count": 8,
     "metadata": {},
     "output_type": "execute_result"
    }
   ],
   "source": [
    "\"Personalization\"  in list1"
   ]
  },
  {
   "cell_type": "code",
   "execution_count": 9,
   "metadata": {},
   "outputs": [],
   "source": [
    "#updating a value that is not present\n",
    "android[10472].insert(1,\"LIFE STYLE\")"
   ]
  },
  {
   "cell_type": "code",
   "execution_count": 10,
   "metadata": {},
   "outputs": [
    {
     "data": {
      "text/plain": [
       "['Life Made WI-Fi Touchscreen Photo Frame',\n",
       " 'LIFE STYLE',\n",
       " '1.9',\n",
       " '19',\n",
       " '3.0M',\n",
       " '1,000+',\n",
       " 'Free',\n",
       " '0',\n",
       " 'Everyone',\n",
       " 'Life style',\n",
       " 'February 11, 2018',\n",
       " '1.0.19',\n",
       " '4.0 and up']"
      ]
     },
     "execution_count": 10,
     "metadata": {},
     "output_type": "execute_result"
    }
   ],
   "source": [
    "android[10472]"
   ]
  },
  {
   "cell_type": "code",
   "execution_count": 11,
   "metadata": {},
   "outputs": [],
   "source": [
    "\n",
    "for i in android: \n",
    "    if not len(i) == 13:\n",
    "        print(i)\n",
    "        "
   ]
  },
  {
   "cell_type": "code",
   "execution_count": 12,
   "metadata": {},
   "outputs": [
    {
     "ename": "SyntaxError",
     "evalue": "invalid syntax (<ipython-input-12-cf247bb13bd0>, line 1)",
     "output_type": "error",
     "traceback": [
      "\u001b[1;36m  File \u001b[1;32m\"<ipython-input-12-cf247bb13bd0>\"\u001b[1;36m, line \u001b[1;32m1\u001b[0m\n\u001b[1;33m    szqs2for i in android:\u001b[0m\n\u001b[1;37m             ^\u001b[0m\n\u001b[1;31mSyntaxError\u001b[0m\u001b[1;31m:\u001b[0m invalid syntax\n"
     ]
    }
   ],
   "source": [
    "szqs2for i in android:\n",
    "    \n",
    "    if  i[5]==\"\":\n",
    "        print(i)"
   ]
  },
  {
   "cell_type": "code",
   "execution_count": null,
   "metadata": {},
   "outputs": [],
   "source": [
    "for i in android:\n",
    "    print(i[5])"
   ]
  },
  {
   "cell_type": "code",
   "execution_count": null,
   "metadata": {},
   "outputs": [],
   "source": [
    "list2=[]\n",
    "list3=[]\n",
    "for i in android:\n",
    "    if i[0] not in list2:\n",
    "        list2.append(i[0])\n",
    "    else:\n",
    "        list3.append(i[0])"
   ]
  },
  {
   "cell_type": "code",
   "execution_count": null,
   "metadata": {},
   "outputs": [],
   "source": [
    " list2"
   ]
  },
  {
   "cell_type": "code",
   "execution_count": null,
   "metadata": {},
   "outputs": [],
   "source": [
    "len(android)"
   ]
  },
  {
   "cell_type": "code",
   "execution_count": null,
   "metadata": {},
   "outputs": [],
   "source": [
    "len(list2)"
   ]
  },
  {
   "cell_type": "code",
   "execution_count": null,
   "metadata": {},
   "outputs": [],
   "source": [
    "10841-9660"
   ]
  },
  {
   "cell_type": "code",
   "execution_count": null,
   "metadata": {},
   "outputs": [],
   "source": [
    "list3"
   ]
  },
  {
   "cell_type": "code",
   "execution_count": null,
   "metadata": {},
   "outputs": [],
   "source": [
    "len(list3),len(list2)"
   ]
  },
  {
   "cell_type": "code",
   "execution_count": null,
   "metadata": {},
   "outputs": [],
   "source": [
    "reviews={}\n",
    "for i in android:\n",
    "    if i[0] not in reviews:\n",
    "        reviews[i[0]]=int(i[3])\n",
    "    elif i[0] in reviews and int(i[3]) >reviews[i[0]]:\n",
    "        reviews[i[0]]=int(i[3])"
   ]
  },
  {
   "cell_type": "code",
   "execution_count": null,
   "metadata": {},
   "outputs": [],
   "source": [
    "len(reviews)"
   ]
  },
  {
   "cell_type": "code",
   "execution_count": null,
   "metadata": {},
   "outputs": [],
   "source": [
    "\n",
    "reviews[\"Instagram\"]"
   ]
  },
  {
   "cell_type": "code",
   "execution_count": null,
   "metadata": {},
   "outputs": [],
   "source": [
    "android_clean=[]\n",
    "already_added=[]\n",
    "for i in android:\n",
    "    n_reviews=int(i[3])\n",
    "    app_name=i[0]\n",
    "    if reviews[app_name]== n_reviews and app_name not in already_added:\n",
    "        android_clean.append(i)\n",
    "        already_added.append(app_name)"
   ]
  },
  {
   "cell_type": "code",
   "execution_count": null,
   "metadata": {},
   "outputs": [],
   "source": [
    "len(android_clean)"
   ]
  },
  {
   "cell_type": "code",
   "execution_count": null,
   "metadata": {},
   "outputs": [],
   "source": [
    "english_apps=[]\n",
    "for i in android_clean:\n",
    "    if((i[0] >= 'a' and i[0] <= 'z') or (i[0] >= 'A' and i[0]<= 'Z')):\n",
    "        english_apps.append(i)\n",
    "len(english_apps)    "
   ]
  },
  {
   "cell_type": "code",
   "execution_count": null,
   "metadata": {},
   "outputs": [],
   "source": [
    "for i in english_apps:\n",
    "    print(i[0])"
   ]
  },
  {
   "cell_type": "code",
   "execution_count": null,
   "metadata": {},
   "outputs": [],
   "source": [
    "a=[]\n",
    "for i in android:\n",
    "    if(i[0].isdigit()):\n",
    "        a.append(i)\n",
    "a"
   ]
  },
  {
   "cell_type": "code",
   "execution_count": null,
   "metadata": {},
   "outputs": [],
   "source": [
    "for i in android:\n",
    "    if(ch.isdigit()):\n",
    "        print(\"The Given Character \", ch, \"is a Digit\")\n",
    "    elif(ch.isalpha()):\n",
    "    print(\"The Given Character \", ch, \"is an Alphabet\")\n",
    "    else:\n",
    "        print(\"The Given Character \", ch, \"is a Special Character\")"
   ]
  },
  {
   "cell_type": "code",
   "execution_count": null,
   "metadata": {},
   "outputs": [],
   "source": [
    "english_apps2=[]\n",
    "for i in android_clean:\n",
    "    if i[0].isascii():\n",
    "        english_apps2.append(i)\n",
    "len(english_apps2)    "
   ]
  },
  {
   "cell_type": "code",
   "execution_count": null,
   "metadata": {},
   "outputs": [],
   "source": [
    "for i in english_apps2:\n",
    "    print(i[0])"
   ]
  },
  {
   "cell_type": "code",
   "execution_count": null,
   "metadata": {},
   "outputs": [],
   "source": [
    "#tells u the ascii code:\n",
    "#ord\n",
    "ord(\"a\")"
   ]
  },
  {
   "cell_type": "code",
   "execution_count": null,
   "metadata": {},
   "outputs": [],
   "source": [
    "app=\"instagram👍\"\n",
    "lst=[]\n",
    "for i in app:\n",
    "    if ord(i)<= 127:\n",
    "        lst.append(\"true\")\n",
    "    elif ord(i)>= 127:\n",
    "        lst.append(\"false\")  "
   ]
  },
  {
   "cell_type": "code",
   "execution_count": null,
   "metadata": {},
   "outputs": [],
   "source": [
    "lst"
   ]
  },
  {
   "cell_type": "code",
   "execution_count": null,
   "metadata": {},
   "outputs": [],
   "source": [
    "lst1=[]\n",
    "for i in app:\n",
    "    lst1.append(ord(i)<= 127)"
   ]
  },
  {
   "cell_type": "markdown",
   "metadata": {},
   "source": [
    "lst1"
   ]
  },
  {
   "cell_type": "code",
   "execution_count": null,
   "metadata": {},
   "outputs": [],
   "source": [
    "lst1"
   ]
  },
  {
   "cell_type": "code",
   "execution_count": null,
   "metadata": {},
   "outputs": [],
   "source": [
    "def is_eng(app_name):\n",
    "    lst3=[]\n",
    "    for i in app_name:\n",
    "        lst3.append(ord(i)<= 127)\n",
    "    non_ascii=0\n",
    "    for j in lst3:\n",
    "        if j== False:\n",
    "            non_ascii+=1\n",
    "    if non_ascii>2:\n",
    "        return False\n",
    "    else:\n",
    "        return True"
   ]
  },
  {
   "cell_type": "code",
   "execution_count": null,
   "metadata": {},
   "outputs": [],
   "source": [
    "is_eng(\"instagram⛄ ⛄ ⛄ \")"
   ]
  },
  {
   "cell_type": "code",
   "execution_count": null,
   "metadata": {},
   "outputs": [],
   "source": [
    "is_eng(\"instagram👍\")"
   ]
  },
  {
   "cell_type": "code",
   "execution_count": null,
   "metadata": {},
   "outputs": [],
   "source": []
  },
  {
   "cell_type": "code",
   "execution_count": null,
   "metadata": {},
   "outputs": [],
   "source": []
  },
  {
   "cell_type": "code",
   "execution_count": null,
   "metadata": {},
   "outputs": [],
   "source": []
  },
  {
   "cell_type": "code",
   "execution_count": null,
   "metadata": {},
   "outputs": [],
   "source": []
  },
  {
   "cell_type": "code",
   "execution_count": null,
   "metadata": {},
   "outputs": [],
   "source": [
    "free=[]\n"
   ]
  }
 ],
 "metadata": {
  "kernelspec": {
   "display_name": "Python 3 (ipykernel)",
   "language": "python",
   "name": "python3"
  },
  "language_info": {
   "codemirror_mode": {
    "name": "ipython",
    "version": 3
   },
   "file_extension": ".py",
   "mimetype": "text/x-python",
   "name": "python",
   "nbconvert_exporter": "python",
   "pygments_lexer": "ipython3",
   "version": "3.9.12"
  }
 },
 "nbformat": 4,
 "nbformat_minor": 4
}
